{
 "cells": [
  {
   "cell_type": "code",
   "execution_count": 1,
   "id": "cdf854f0",
   "metadata": {},
   "outputs": [],
   "source": [
    "# Code for ETL operations on Country-GDP data\n",
    "from io import StringIO\n",
    "import requests\n",
    "from bs4 import BeautifulSoup\n",
    "import pandas as pd\n",
    "import sqlite3\n",
    "from datetime import datetime\n",
    "from icecream import ic"
   ]
  },
  {
   "cell_type": "code",
   "execution_count": 2,
   "id": "de24cb4a",
   "metadata": {},
   "outputs": [],
   "source": [
    "def log_progress(message):\n",
    "    \"\"\"This function logs the mentioned message of a given stage of the\n",
    "    code execution to a log file. Function returns nothing\"\"\"\n",
    "\n",
    "    with open('code_log.txt', 'a') as f:\n",
    "        f.write(f'{datetime.now()}: {message}\\n')"
   ]
  },
  {
   "cell_type": "code",
   "execution_count": 3,
   "id": "d59a8969",
   "metadata": {},
   "outputs": [],
   "source": [
    "def extract(url, table_attribs):\n",
    "    \"\"\" This function aims to extract the required\n",
    "    information from the website and save it to a data frame. The\n",
    "    function returns the data frame for further processing. \"\"\"\n",
    "\n",
    "    soup = BeautifulSoup(requests.get(url).text, 'html.parser')\n",
    "    table = soup.find('span', string=table_attribs).find_next('table')\n",
    "    df = pd.read_html(StringIO(str(table)))[0]\n",
    "\n",
    "    log_progress('Data extraction complete. Initiating Transformation process')\n",
    "\n",
    "    return df"
   ]
  },
  {
   "cell_type": "code",
   "execution_count": 4,
   "id": "64feb39e",
   "metadata": {},
   "outputs": [],
   "source": [
    "def transform(df, csv_path):\n",
    "    \"\"\" This function accesses the CSV file for exchange rate\n",
    "    information, and adds three columns to the data frame, each\n",
    "    containing the transformed version of Market Cap column to\n",
    "    respective currencies\"\"\"\n",
    "\n",
    "    exchange_rate = pd.read_csv(csv_path, index_col=0).to_dict()['Rate']\n",
    "\n",
    "    df['MC_GBP_Billion'] = round(df['Market cap (US$ billion)'] * exchange_rate['GBP'], 2)\n",
    "    df['MC_EUR_Billion'] = round(df['Market cap (US$ billion)'] * exchange_rate['EUR'], 2)\n",
    "    df['MC_INR_Billion'] = round(df['Market cap (US$ billion)'] * exchange_rate['INR'], 2)\n",
    "\n",
    "    ic(df['MC_EUR_Billion'][4])\n",
    "\n",
    "    log_progress('Data transformation complete. Initiating Loading process')\n",
    "\n",
    "    return df"
   ]
  },
  {
   "cell_type": "code",
   "execution_count": 5,
   "id": "5a6a74c9",
   "metadata": {},
   "outputs": [],
   "source": [
    "def load_to_csv(df, output_path):\n",
    "    \"\"\" This function saves the final data frame as a CSV file in\n",
    "    the provided path. Function returns nothing.\"\"\"\n",
    "\n",
    "    df.to_csv(output_path)\n",
    "\n",
    "    log_progress('Data saved to CSV file')"
   ]
  },
  {
   "cell_type": "code",
   "execution_count": 6,
   "id": "6cd76bfb",
   "metadata": {},
   "outputs": [],
   "source": [
    "def load_to_db(df, sql_connection, table_name):\n",
    "    \"\"\" This function saves the final data frame to a database\n",
    "    table with the provided name. Function returns nothing.\"\"\"\n",
    "\n",
    "    df.to_sql(table_name, sql_connection, if_exists='replace', index=False)\n",
    "\n",
    "    log_progress('Data loaded to Database as a table, Executing queries')"
   ]
  },
  {
   "cell_type": "code",
   "execution_count": 7,
   "id": "0601e317",
   "metadata": {},
   "outputs": [],
   "source": [
    "def run_query(query_statement, sql_connection):\n",
    "    \"\"\" This function runs the query on the database table and\n",
    "    prints the output on the terminal. Function returns nothing. \"\"\"\n",
    "\n",
    "    cursor = sql_connection.cursor()\n",
    "    cursor.execute(query_statement)\n",
    "    result = cursor.fetchall()\n",
    "    # for row in result:\n",
    "    #     ic(row)\n",
    "\n",
    "    log_progress('Process Complete')\n",
    "\n",
    "    return result"
   ]
  },
  {
   "cell_type": "code",
   "execution_count": 8,
   "id": "58331b84",
   "metadata": {},
   "outputs": [
    {
     "name": "stderr",
     "output_type": "stream",
     "text": [
      "ic| extract(url, 'By market capitalization'):    Rank                                Bank name  Market cap (US$ billion)\n",
      "                                              0     1                           JPMorgan Chase                    432.92\n",
      "                                              1     2                          Bank of America                    231.52\n",
      "                                              2     3  Industrial and Commercial Bank of China                    194.56\n",
      "                                              3     4               Agricultural Bank of China                    160.68\n",
      "                                              4     5                                HDFC Bank                    157.91\n",
      "                                              5     6                              Wells Fargo                    155.87\n",
      "                                              6     7                        HSBC Holdings PLC                    148.90\n",
      "                                              7     8                           Morgan Stanley                    140.83\n",
      "                                              8     9                  China Construction Bank                    139.82\n",
      "                                              9    10                            Bank of China                    136.81\n",
      "ic| df['MC_EUR_Billion'][4]: 146.86\n",
      "ic| run_query('SELECT * FROM Largest_banks', conn): [(1, 'JPMorgan Chase', 432.92, 346.34, 402.62, 35910.71),\n",
      "                                                     (2, 'Bank of America', 231.52, 185.22, 215.31, 19204.58),\n",
      "                                                     (3,\n",
      "                                                      'Industrial and Commercial Bank of China',\n",
      "                                                      194.56,\n",
      "                                                      155.65,\n",
      "                                                      180.94,\n",
      "                                                      16138.75),\n",
      "                                                     (4, 'Agricultural Bank of China', 160.68, 128.54, 149.43, 13328.41),\n",
      "                                                     (5, 'HDFC Bank', 157.91, 126.33, 146.86, 13098.63),\n",
      "                                                     (6, 'Wells Fargo', 155.87, 124.7, 144.96, 12929.42),\n",
      "                                                     (7, 'HSBC Holdings PLC', 148.9, 119.12, 138.48, 12351.26),\n",
      "                                                     (8, 'Morgan Stanley', 140.83, 112.66, 130.97, 11681.85),\n",
      "                                                     (9, 'China Construction Bank', 139.82, 111.86, 130.03, 11598.07),\n",
      "                                                     (10, 'Bank of China', 136.81, 109.45, 127.23, 11348.39)]\n",
      "ic| run_query('SELECT AVG(MC_GBP_Billion) FROM Largest_banks', conn): [(151.98700000000002,)]\n",
      "ic| run_query('SELECT \"Bank name\" FROM Largest_banks LIMIT 5', conn): [('JPMorgan Chase',),\n",
      "                                                                       ('Bank of America',),\n",
      "                                                                       ('Industrial and Commercial Bank of China',),\n",
      "                                                                       ('Agricultural Bank of China',),\n",
      "                                                                       ('HDFC Bank',)]\n"
     ]
    }
   ],
   "source": [
    "if __name__ == '__main__':\n",
    "    url = 'https://web.archive.org/web/20230908091635/https://en.wikipedia.org/wiki/List_of_largest_banks'\n",
    "    output_csv_path = './Largest_banks_data.csv'\n",
    "    database_name = 'Banks.db'\n",
    "    table_name = 'Largest_banks'\n",
    "    #\n",
    "    log_progress('Preliminaries complete. Initiating ETL process')\n",
    "    #\n",
    "\n",
    "    df = ic(extract(url, 'By market capitalization'))\n",
    "\n",
    "    transform(df, 'exchange_rate.csv')\n",
    "\n",
    "    load_to_csv(df, output_csv_path)\n",
    "\n",
    "    with sqlite3.connect(database_name) as conn:\n",
    "        load_to_db(df, conn, table_name)\n",
    "\n",
    "        ic(run_query('SELECT * FROM Largest_banks', conn))\n",
    "\n",
    "        ic(run_query('SELECT AVG(MC_GBP_Billion) FROM Largest_banks', conn))\n",
    "\n",
    "        ic(run_query('SELECT \"Bank name\" FROM Largest_banks LIMIT 5', conn))\n"
   ]
  },
  {
   "cell_type": "code",
   "execution_count": null,
   "id": "efc6be47",
   "metadata": {},
   "outputs": [],
   "source": []
  }
 ],
 "metadata": {
  "kernelspec": {
   "display_name": "Python 3 (ipykernel)",
   "language": "python",
   "name": "python3"
  },
  "language_info": {
   "codemirror_mode": {
    "name": "ipython",
    "version": 3
   },
   "file_extension": ".py",
   "mimetype": "text/x-python",
   "name": "python",
   "nbconvert_exporter": "python",
   "pygments_lexer": "ipython3",
   "version": "3.11.3"
  }
 },
 "nbformat": 4,
 "nbformat_minor": 5
}
